{
 "cells": [
  {
   "cell_type": "code",
   "execution_count": 179,
   "metadata": {},
   "outputs": [],
   "source": [
    "import requests\n",
    "import json\n",
    "import csv\n",
    "from pprint import pprint\n",
    "import pandas as pd"
   ]
  },
  {
   "cell_type": "code",
   "execution_count": 144,
   "metadata": {},
   "outputs": [],
   "source": [
    "def return_json(url):\n",
    "    cookies = {\n",
    "    \n",
    "    }\n",
    "\n",
    "    headers = {\n",
    "        'authority': 'www.safeway.com',\n",
    "        'ocp-apim-subscription-key': 'e914eec9448c4d5eb672debf5011cf8f',\n",
    "        \n",
    "    }\n",
    "\n",
    "    response = requests.get(\n",
    "        url,\n",
    "        cookies=cookies,\n",
    "        headers=headers,\n",
    "    )\n",
    "    return response"
   ]
  },
  {
   "cell_type": "code",
   "execution_count": 146,
   "metadata": {},
   "outputs": [],
   "source": [
    "def filed(url, file_name):\n",
    "    the_json = return_json(url)\n",
    "    print(the_json)\n",
    "    json_text = the_json.text\n",
    "\n",
    "    with open(file_name, 'w') as f:\n",
    "        f.write(json_text)\n",
    "    print(file_name)"
   ]
  },
  {
   "cell_type": "code",
   "execution_count": 152,
   "metadata": {},
   "outputs": [],
   "source": [
    "csv_file = open('category_urls.csv')\n",
    "csv_reader = csv.reader(csv_file)\n",
    "data = list(csv_reader)"
   ]
  },
  {
   "cell_type": "code",
   "execution_count": 154,
   "metadata": {},
   "outputs": [
    {
     "name": "stdout",
     "output_type": "stream",
     "text": [
      "<Response [200]>\n",
      "file_name is written\n",
      "<Response [200]>\n",
      "file_name is written\n",
      "<Response [200]>\n",
      "file_name is written\n",
      "<Response [200]>\n",
      "file_name is written\n",
      "<Response [200]>\n",
      "file_name is written\n",
      "<Response [200]>\n",
      "file_name is written\n",
      "<Response [200]>\n",
      "file_name is written\n",
      "<Response [200]>\n",
      "file_name is written\n",
      "<Response [200]>\n",
      "file_name is written\n",
      "<Response [206]>\n",
      "file_name is written\n",
      "<Response [200]>\n",
      "file_name is written\n",
      "<Response [200]>\n",
      "file_name is written\n",
      "<Response [200]>\n",
      "file_name is written\n",
      "<Response [200]>\n",
      "file_name is written\n",
      "<Response [200]>\n",
      "file_name is written\n",
      "<Response [200]>\n",
      "file_name is written\n",
      "<Response [200]>\n",
      "file_name is written\n",
      "<Response [200]>\n",
      "file_name is written\n",
      "<Response [200]>\n",
      "file_name is written\n"
     ]
    }
   ],
   "source": [
    "for i in range(len(data)):\n",
    "    filed(data[i][0], 'data/' + data[i][1]+'.json')"
   ]
  }
 ],
 "metadata": {
  "kernelspec": {
   "display_name": "Python 3",
   "language": "python",
   "name": "python3"
  },
  "language_info": {
   "codemirror_mode": {
    "name": "ipython",
    "version": 3
   },
   "file_extension": ".py",
   "mimetype": "text/x-python",
   "name": "python",
   "nbconvert_exporter": "python",
   "pygments_lexer": "ipython3",
   "version": "3.11.5"
  }
 },
 "nbformat": 4,
 "nbformat_minor": 2
}
