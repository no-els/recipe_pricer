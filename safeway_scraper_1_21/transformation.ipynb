{
 "cells": [
  {
   "cell_type": "code",
   "execution_count": 2,
   "metadata": {},
   "outputs": [],
   "source": [
    "from pprint import pprint\n",
    "import pandas as pd\n",
    "import json"
   ]
  },
  {
   "cell_type": "code",
   "execution_count": 3,
   "metadata": {},
   "outputs": [],
   "source": [
    "def load_json_from_file(filename):\n",
    "    \"\"\"Load JSON data from file and return as Python dict\"\"\"\n",
    "    \n",
    "    with open(filename) as f:\n",
    "        data = json.load(f)\n",
    "    \n",
    "    return data"
   ]
  },
  {
   "cell_type": "code",
   "execution_count": 29,
   "metadata": {},
   "outputs": [],
   "source": [
    "def dict_to_df(dictionary):\n",
    "    return pd.DataFrame(dictionary)"
   ]
  },
  {
   "cell_type": "code",
   "execution_count": 34,
   "metadata": {},
   "outputs": [],
   "source": [
    "def file_name_to_df(filename):\n",
    "    return dict_to_df(load_json_from_file(filename)['response'])"
   ]
  },
  {
   "cell_type": "code",
   "execution_count": 35,
   "metadata": {},
   "outputs": [
    {
     "ename": "ValueError",
     "evalue": "Mixing dicts with non-Series may lead to ambiguous ordering.",
     "output_type": "error",
     "traceback": [
      "\u001b[0;31m---------------------------------------------------------------------------\u001b[0m",
      "\u001b[0;31mValueError\u001b[0m                                Traceback (most recent call last)",
      "Cell \u001b[0;32mIn[35], line 1\u001b[0m\n\u001b[0;32m----> 1\u001b[0m df \u001b[38;5;241m=\u001b[39m \u001b[43mfile_name_to_df\u001b[49m\u001b[43m(\u001b[49m\u001b[38;5;124;43m'\u001b[39;49m\u001b[38;5;124;43mdata/DairyEggsCheese.json\u001b[39;49m\u001b[38;5;124;43m'\u001b[39;49m\u001b[43m)\u001b[49m\n",
      "Cell \u001b[0;32mIn[34], line 2\u001b[0m, in \u001b[0;36mfile_name_to_df\u001b[0;34m(filename)\u001b[0m\n\u001b[1;32m      1\u001b[0m \u001b[38;5;28;01mdef\u001b[39;00m \u001b[38;5;21mfile_name_to_df\u001b[39m(filename):\n\u001b[0;32m----> 2\u001b[0m     \u001b[38;5;28;01mreturn\u001b[39;00m \u001b[43mdict_to_df\u001b[49m\u001b[43m(\u001b[49m\u001b[43mload_json_from_file\u001b[49m\u001b[43m(\u001b[49m\u001b[43mfilename\u001b[49m\u001b[43m)\u001b[49m\u001b[43m[\u001b[49m\u001b[38;5;124;43m'\u001b[39;49m\u001b[38;5;124;43mresponse\u001b[39;49m\u001b[38;5;124;43m'\u001b[39;49m\u001b[43m]\u001b[49m\u001b[43m)\u001b[49m\n",
      "Cell \u001b[0;32mIn[29], line 2\u001b[0m, in \u001b[0;36mdict_to_df\u001b[0;34m(dictionary)\u001b[0m\n\u001b[1;32m      1\u001b[0m \u001b[38;5;28;01mdef\u001b[39;00m \u001b[38;5;21mdict_to_df\u001b[39m(dictionary):\n\u001b[0;32m----> 2\u001b[0m     \u001b[38;5;28;01mreturn\u001b[39;00m \u001b[43mpd\u001b[49m\u001b[38;5;241;43m.\u001b[39;49m\u001b[43mDataFrame\u001b[49m\u001b[43m(\u001b[49m\u001b[43mdictionary\u001b[49m\u001b[43m)\u001b[49m\n",
      "File \u001b[0;32m/opt/homebrew/lib/python3.11/site-packages/pandas/core/frame.py:733\u001b[0m, in \u001b[0;36mDataFrame.__init__\u001b[0;34m(self, data, index, columns, dtype, copy)\u001b[0m\n\u001b[1;32m    727\u001b[0m     mgr \u001b[38;5;241m=\u001b[39m \u001b[38;5;28mself\u001b[39m\u001b[38;5;241m.\u001b[39m_init_mgr(\n\u001b[1;32m    728\u001b[0m         data, axes\u001b[38;5;241m=\u001b[39m{\u001b[38;5;124m\"\u001b[39m\u001b[38;5;124mindex\u001b[39m\u001b[38;5;124m\"\u001b[39m: index, \u001b[38;5;124m\"\u001b[39m\u001b[38;5;124mcolumns\u001b[39m\u001b[38;5;124m\"\u001b[39m: columns}, dtype\u001b[38;5;241m=\u001b[39mdtype, copy\u001b[38;5;241m=\u001b[39mcopy\n\u001b[1;32m    729\u001b[0m     )\n\u001b[1;32m    731\u001b[0m \u001b[38;5;28;01melif\u001b[39;00m \u001b[38;5;28misinstance\u001b[39m(data, \u001b[38;5;28mdict\u001b[39m):\n\u001b[1;32m    732\u001b[0m     \u001b[38;5;66;03m# GH#38939 de facto copy defaults to False only in non-dict cases\u001b[39;00m\n\u001b[0;32m--> 733\u001b[0m     mgr \u001b[38;5;241m=\u001b[39m \u001b[43mdict_to_mgr\u001b[49m\u001b[43m(\u001b[49m\u001b[43mdata\u001b[49m\u001b[43m,\u001b[49m\u001b[43m \u001b[49m\u001b[43mindex\u001b[49m\u001b[43m,\u001b[49m\u001b[43m \u001b[49m\u001b[43mcolumns\u001b[49m\u001b[43m,\u001b[49m\u001b[43m \u001b[49m\u001b[43mdtype\u001b[49m\u001b[38;5;241;43m=\u001b[39;49m\u001b[43mdtype\u001b[49m\u001b[43m,\u001b[49m\u001b[43m \u001b[49m\u001b[43mcopy\u001b[49m\u001b[38;5;241;43m=\u001b[39;49m\u001b[43mcopy\u001b[49m\u001b[43m,\u001b[49m\u001b[43m \u001b[49m\u001b[43mtyp\u001b[49m\u001b[38;5;241;43m=\u001b[39;49m\u001b[43mmanager\u001b[49m\u001b[43m)\u001b[49m\n\u001b[1;32m    734\u001b[0m \u001b[38;5;28;01melif\u001b[39;00m \u001b[38;5;28misinstance\u001b[39m(data, ma\u001b[38;5;241m.\u001b[39mMaskedArray):\n\u001b[1;32m    735\u001b[0m     \u001b[38;5;28;01mfrom\u001b[39;00m \u001b[38;5;21;01mnumpy\u001b[39;00m\u001b[38;5;21;01m.\u001b[39;00m\u001b[38;5;21;01mma\u001b[39;00m \u001b[38;5;28;01mimport\u001b[39;00m mrecords\n",
      "File \u001b[0;32m/opt/homebrew/lib/python3.11/site-packages/pandas/core/internals/construction.py:503\u001b[0m, in \u001b[0;36mdict_to_mgr\u001b[0;34m(data, index, columns, dtype, typ, copy)\u001b[0m\n\u001b[1;32m    499\u001b[0m     \u001b[38;5;28;01melse\u001b[39;00m:\n\u001b[1;32m    500\u001b[0m         \u001b[38;5;66;03m# dtype check to exclude e.g. range objects, scalars\u001b[39;00m\n\u001b[1;32m    501\u001b[0m         arrays \u001b[38;5;241m=\u001b[39m [x\u001b[38;5;241m.\u001b[39mcopy() \u001b[38;5;28;01mif\u001b[39;00m \u001b[38;5;28mhasattr\u001b[39m(x, \u001b[38;5;124m\"\u001b[39m\u001b[38;5;124mdtype\u001b[39m\u001b[38;5;124m\"\u001b[39m) \u001b[38;5;28;01melse\u001b[39;00m x \u001b[38;5;28;01mfor\u001b[39;00m x \u001b[38;5;129;01min\u001b[39;00m arrays]\n\u001b[0;32m--> 503\u001b[0m \u001b[38;5;28;01mreturn\u001b[39;00m \u001b[43marrays_to_mgr\u001b[49m\u001b[43m(\u001b[49m\u001b[43marrays\u001b[49m\u001b[43m,\u001b[49m\u001b[43m \u001b[49m\u001b[43mcolumns\u001b[49m\u001b[43m,\u001b[49m\u001b[43m \u001b[49m\u001b[43mindex\u001b[49m\u001b[43m,\u001b[49m\u001b[43m \u001b[49m\u001b[43mdtype\u001b[49m\u001b[38;5;241;43m=\u001b[39;49m\u001b[43mdtype\u001b[49m\u001b[43m,\u001b[49m\u001b[43m \u001b[49m\u001b[43mtyp\u001b[49m\u001b[38;5;241;43m=\u001b[39;49m\u001b[43mtyp\u001b[49m\u001b[43m,\u001b[49m\u001b[43m \u001b[49m\u001b[43mconsolidate\u001b[49m\u001b[38;5;241;43m=\u001b[39;49m\u001b[43mcopy\u001b[49m\u001b[43m)\u001b[49m\n",
      "File \u001b[0;32m/opt/homebrew/lib/python3.11/site-packages/pandas/core/internals/construction.py:114\u001b[0m, in \u001b[0;36marrays_to_mgr\u001b[0;34m(arrays, columns, index, dtype, verify_integrity, typ, consolidate)\u001b[0m\n\u001b[1;32m    111\u001b[0m \u001b[38;5;28;01mif\u001b[39;00m verify_integrity:\n\u001b[1;32m    112\u001b[0m     \u001b[38;5;66;03m# figure out the index, if necessary\u001b[39;00m\n\u001b[1;32m    113\u001b[0m     \u001b[38;5;28;01mif\u001b[39;00m index \u001b[38;5;129;01mis\u001b[39;00m \u001b[38;5;28;01mNone\u001b[39;00m:\n\u001b[0;32m--> 114\u001b[0m         index \u001b[38;5;241m=\u001b[39m \u001b[43m_extract_index\u001b[49m\u001b[43m(\u001b[49m\u001b[43marrays\u001b[49m\u001b[43m)\u001b[49m\n\u001b[1;32m    115\u001b[0m     \u001b[38;5;28;01melse\u001b[39;00m:\n\u001b[1;32m    116\u001b[0m         index \u001b[38;5;241m=\u001b[39m ensure_index(index)\n",
      "File \u001b[0;32m/opt/homebrew/lib/python3.11/site-packages/pandas/core/internals/construction.py:680\u001b[0m, in \u001b[0;36m_extract_index\u001b[0;34m(data)\u001b[0m\n\u001b[1;32m    677\u001b[0m     \u001b[38;5;28;01mraise\u001b[39;00m \u001b[38;5;167;01mValueError\u001b[39;00m(\u001b[38;5;124m\"\u001b[39m\u001b[38;5;124mAll arrays must be of the same length\u001b[39m\u001b[38;5;124m\"\u001b[39m)\n\u001b[1;32m    679\u001b[0m \u001b[38;5;28;01mif\u001b[39;00m have_dicts:\n\u001b[0;32m--> 680\u001b[0m     \u001b[38;5;28;01mraise\u001b[39;00m \u001b[38;5;167;01mValueError\u001b[39;00m(\n\u001b[1;32m    681\u001b[0m         \u001b[38;5;124m\"\u001b[39m\u001b[38;5;124mMixing dicts with non-Series may lead to ambiguous ordering.\u001b[39m\u001b[38;5;124m\"\u001b[39m\n\u001b[1;32m    682\u001b[0m     )\n\u001b[1;32m    684\u001b[0m \u001b[38;5;28;01mif\u001b[39;00m have_series:\n\u001b[1;32m    685\u001b[0m     \u001b[38;5;28;01mif\u001b[39;00m lengths[\u001b[38;5;241m0\u001b[39m] \u001b[38;5;241m!=\u001b[39m \u001b[38;5;28mlen\u001b[39m(index):\n",
      "\u001b[0;31mValueError\u001b[0m: Mixing dicts with non-Series may lead to ambiguous ordering."
     ]
    }
   ],
   "source": [
    "df = file_name_to_df('data/DairyEggsCheese.json')"
   ]
  },
  {
   "cell_type": "code",
   "execution_count": 33,
   "metadata": {},
   "outputs": [
    {
     "data": {
      "text/html": [
       "<div>\n",
       "<style scoped>\n",
       "    .dataframe tbody tr th:only-of-type {\n",
       "        vertical-align: middle;\n",
       "    }\n",
       "\n",
       "    .dataframe tbody tr th {\n",
       "        vertical-align: top;\n",
       "    }\n",
       "\n",
       "    .dataframe thead th {\n",
       "        text-align: right;\n",
       "    }\n",
       "</style>\n",
       "<table border=\"1\" class=\"dataframe\">\n",
       "  <thead>\n",
       "    <tr style=\"text-align: right;\">\n",
       "      <th></th>\n",
       "      <th>response</th>\n",
       "      <th>appCode</th>\n",
       "      <th>appMsg</th>\n",
       "      <th>adRequestUrl</th>\n",
       "      <th>facet_counts</th>\n",
       "    </tr>\n",
       "  </thead>\n",
       "  <tbody>\n",
       "    <tr>\n",
       "      <th>numFound</th>\n",
       "      <td>1344</td>\n",
       "      <td>[GR200][A-CT: 200][A-PP: 200][SD200]</td>\n",
       "      <td>[GR : SUCCESS.][A-CT: Success.][A-PP: Skipped ...</td>\n",
       "      <td>/v2.3/products?vt=Aisle&amp;po=InGrid&amp;ss=2,4,6,10,...</td>\n",
       "      <td>NaN</td>\n",
       "    </tr>\n",
       "    <tr>\n",
       "      <th>start</th>\n",
       "      <td>0</td>\n",
       "      <td>[GR200][A-CT: 200][A-PP: 200][SD200]</td>\n",
       "      <td>[GR : SUCCESS.][A-CT: Success.][A-PP: Skipped ...</td>\n",
       "      <td>/v2.3/products?vt=Aisle&amp;po=InGrid&amp;ss=2,4,6,10,...</td>\n",
       "      <td>NaN</td>\n",
       "    </tr>\n",
       "    <tr>\n",
       "      <th>miscInfo</th>\n",
       "      <td>{'attributionToken': 'pQHwpAoLCLO7uq0GEKmkmSIQ...</td>\n",
       "      <td>[GR200][A-CT: 200][A-PP: 200][SD200]</td>\n",
       "      <td>[GR : SUCCESS.][A-CT: Success.][A-PP: Skipped ...</td>\n",
       "      <td>/v2.3/products?vt=Aisle&amp;po=InGrid&amp;ss=2,4,6,10,...</td>\n",
       "      <td>NaN</td>\n",
       "    </tr>\n",
       "    <tr>\n",
       "      <th>isExactMatch</th>\n",
       "      <td>True</td>\n",
       "      <td>[GR200][A-CT: 200][A-PP: 200][SD200]</td>\n",
       "      <td>[GR : SUCCESS.][A-CT: Success.][A-PP: Skipped ...</td>\n",
       "      <td>/v2.3/products?vt=Aisle&amp;po=InGrid&amp;ss=2,4,6,10,...</td>\n",
       "      <td>NaN</td>\n",
       "    </tr>\n",
       "    <tr>\n",
       "      <th>docs</th>\n",
       "      <td>[{'status': 'active', 'name': 'Lucerne Milk Wh...</td>\n",
       "      <td>[GR200][A-CT: 200][A-PP: 200][SD200]</td>\n",
       "      <td>[GR : SUCCESS.][A-CT: Success.][A-PP: Skipped ...</td>\n",
       "      <td>/v2.3/products?vt=Aisle&amp;po=InGrid&amp;ss=2,4,6,10,...</td>\n",
       "      <td>NaN</td>\n",
       "    </tr>\n",
       "    <tr>\n",
       "      <th>facet_ranges</th>\n",
       "      <td>NaN</td>\n",
       "      <td>[GR200][A-CT: 200][A-PP: 200][SD200]</td>\n",
       "      <td>[GR : SUCCESS.][A-CT: Success.][A-PP: Skipped ...</td>\n",
       "      <td>/v2.3/products?vt=Aisle&amp;po=InGrid&amp;ss=2,4,6,10,...</td>\n",
       "      <td>{'price': [{'count': 0, 'start': '*', 'end': '...</td>\n",
       "    </tr>\n",
       "    <tr>\n",
       "      <th>facet_fields</th>\n",
       "      <td>NaN</td>\n",
       "      <td>[GR200][A-CT: 200][A-PP: 200][SD200]</td>\n",
       "      <td>[GR : SUCCESS.][A-CT: Success.][A-PP: Skipped ...</td>\n",
       "      <td>/v2.3/products?vt=Aisle&amp;po=InGrid&amp;ss=2,4,6,10,...</td>\n",
       "      <td>{'sizes': [], 'colors': [], 'departmentName': ...</td>\n",
       "    </tr>\n",
       "    <tr>\n",
       "      <th>facet_queries</th>\n",
       "      <td>NaN</td>\n",
       "      <td>[GR200][A-CT: 200][A-PP: 200][SD200]</td>\n",
       "      <td>[GR : SUCCESS.][A-CT: Success.][A-PP: Skipped ...</td>\n",
       "      <td>/v2.3/products?vt=Aisle&amp;po=InGrid&amp;ss=2,4,6,10,...</td>\n",
       "      <td>{}</td>\n",
       "    </tr>\n",
       "  </tbody>\n",
       "</table>\n",
       "</div>"
      ],
      "text/plain": [
       "                                                        response  \\\n",
       "numFound                                                    1344   \n",
       "start                                                          0   \n",
       "miscInfo       {'attributionToken': 'pQHwpAoLCLO7uq0GEKmkmSIQ...   \n",
       "isExactMatch                                                True   \n",
       "docs           [{'status': 'active', 'name': 'Lucerne Milk Wh...   \n",
       "facet_ranges                                                 NaN   \n",
       "facet_fields                                                 NaN   \n",
       "facet_queries                                                NaN   \n",
       "\n",
       "                                            appCode  \\\n",
       "numFound       [GR200][A-CT: 200][A-PP: 200][SD200]   \n",
       "start          [GR200][A-CT: 200][A-PP: 200][SD200]   \n",
       "miscInfo       [GR200][A-CT: 200][A-PP: 200][SD200]   \n",
       "isExactMatch   [GR200][A-CT: 200][A-PP: 200][SD200]   \n",
       "docs           [GR200][A-CT: 200][A-PP: 200][SD200]   \n",
       "facet_ranges   [GR200][A-CT: 200][A-PP: 200][SD200]   \n",
       "facet_fields   [GR200][A-CT: 200][A-PP: 200][SD200]   \n",
       "facet_queries  [GR200][A-CT: 200][A-PP: 200][SD200]   \n",
       "\n",
       "                                                          appMsg  \\\n",
       "numFound       [GR : SUCCESS.][A-CT: Success.][A-PP: Skipped ...   \n",
       "start          [GR : SUCCESS.][A-CT: Success.][A-PP: Skipped ...   \n",
       "miscInfo       [GR : SUCCESS.][A-CT: Success.][A-PP: Skipped ...   \n",
       "isExactMatch   [GR : SUCCESS.][A-CT: Success.][A-PP: Skipped ...   \n",
       "docs           [GR : SUCCESS.][A-CT: Success.][A-PP: Skipped ...   \n",
       "facet_ranges   [GR : SUCCESS.][A-CT: Success.][A-PP: Skipped ...   \n",
       "facet_fields   [GR : SUCCESS.][A-CT: Success.][A-PP: Skipped ...   \n",
       "facet_queries  [GR : SUCCESS.][A-CT: Success.][A-PP: Skipped ...   \n",
       "\n",
       "                                                    adRequestUrl  \\\n",
       "numFound       /v2.3/products?vt=Aisle&po=InGrid&ss=2,4,6,10,...   \n",
       "start          /v2.3/products?vt=Aisle&po=InGrid&ss=2,4,6,10,...   \n",
       "miscInfo       /v2.3/products?vt=Aisle&po=InGrid&ss=2,4,6,10,...   \n",
       "isExactMatch   /v2.3/products?vt=Aisle&po=InGrid&ss=2,4,6,10,...   \n",
       "docs           /v2.3/products?vt=Aisle&po=InGrid&ss=2,4,6,10,...   \n",
       "facet_ranges   /v2.3/products?vt=Aisle&po=InGrid&ss=2,4,6,10,...   \n",
       "facet_fields   /v2.3/products?vt=Aisle&po=InGrid&ss=2,4,6,10,...   \n",
       "facet_queries  /v2.3/products?vt=Aisle&po=InGrid&ss=2,4,6,10,...   \n",
       "\n",
       "                                                    facet_counts  \n",
       "numFound                                                     NaN  \n",
       "start                                                        NaN  \n",
       "miscInfo                                                     NaN  \n",
       "isExactMatch                                                 NaN  \n",
       "docs                                                         NaN  \n",
       "facet_ranges   {'price': [{'count': 0, 'start': '*', 'end': '...  \n",
       "facet_fields   {'sizes': [], 'colors': [], 'departmentName': ...  \n",
       "facet_queries                                                 {}  "
      ]
     },
     "execution_count": 33,
     "metadata": {},
     "output_type": "execute_result"
    }
   ],
   "source": [
    "df"
   ]
  },
  {
   "cell_type": "code",
   "execution_count": null,
   "metadata": {},
   "outputs": [],
   "source": []
  }
 ],
 "metadata": {
  "kernelspec": {
   "display_name": "Python 3",
   "language": "python",
   "name": "python3"
  },
  "language_info": {
   "codemirror_mode": {
    "name": "ipython",
    "version": 3
   },
   "file_extension": ".py",
   "mimetype": "text/x-python",
   "name": "python",
   "nbconvert_exporter": "python",
   "pygments_lexer": "ipython3",
   "version": "3.11.5"
  }
 },
 "nbformat": 4,
 "nbformat_minor": 2
}
